{
 "cells": [
  {
   "cell_type": "markdown",
   "metadata": {},
   "source": [
    "# Question 1"
   ]
  },
  {
   "cell_type": "code",
   "execution_count": null,
   "metadata": {},
   "outputs": [],
   "source": [
    "SELECT player_name, birthday FROM Player \n",
    "WHERE birthday BETWEEN '1987-01-01' AND '1990-12-31' \n",
    "ORDER BY birthday ASC;"
   ]
  },
  {
   "cell_type": "markdown",
   "metadata": {},
   "source": [
    "# Question 2"
   ]
  },
  {
   "cell_type": "code",
   "execution_count": null,
   "metadata": {},
   "outputs": [],
   "source": [
    "SELECT c.name, l.name, \n",
    "    SUM(m.home_team_goal + away_team_goal) AS TotalGoalsScored \n",
    "FROM Country c, League l, Match m \n",
    "WHERE c.id = m.country_id AND l.id = m.league_id \n",
    "GROUP BY c.name ORDER BY TotalGoalsScored DESC;"
   ]
  },
  {
   "cell_type": "markdown",
   "metadata": {},
   "source": [
    "# Question 3"
   ]
  },
  {
   "cell_type": "code",
   "execution_count": null,
   "metadata": {},
   "outputs": [],
   "source": [
    "SELECT team_long_name, AVG(tot.buildUpPlaySpeed) AS AverageOfAttributes\n",
    "FROM (\n",
    "\tSELECT team_api_id, buildUpPlaySpeed FROM Team_Attributes\n",
    "\tUNION ALL\n",
    "\tSELECT team_api_id, buildUpPlayDribbling FROM Team_Attributes\n",
    "\tUNION ALL\n",
    "\tSELECT team_api_id, buildUpPlayPassing FROM Team_Attributes\n",
    "\tUNION ALL \n",
    "\tSELECT team_api_id, chanceCreationCrossing FROM Team_Attributes\n",
    "\tUNION ALL\n",
    "\tSELECT team_api_id, chanceCreationPassing FROM Team_Attributes\n",
    "\tUNION ALL\n",
    "\tSELECT team_api_id, chanceCreationShooting FROM Team_Attributes\n",
    "\tUNION ALL\n",
    "\tSELECT team_api_id, defencePressure FROM Team_Attributes\n",
    "\tUNION ALL\n",
    "\tSELECT team_api_id, defenceAggression FROM Team_Attributes\n",
    "\tUNION ALL\n",
    "\tSELECT team_api_id, defenceTeamWidth FROM Team_Attributes\n",
    ") AS tot, Team AS tm WHERE tot.team_api_id=tm.team_api_id \n",
    "GROUP BY tm.team_long_name \n",
    "ORDER BY AverageOfAttributes DESC"
   ]
  },
  {
   "cell_type": "markdown",
   "metadata": {},
   "source": [
    "# Question 5"
   ]
  },
  {
   "cell_type": "code",
   "execution_count": null,
   "metadata": {},
   "outputs": [],
   "source": [
    "SELECT strftime('%d/%m/%Y', m.date) AS date, m.season, leg.name, \n",
    "    SUM(m.home_team_goal + m.away_team_goal) AS GoalsScored \n",
    "FROM Match m, League leg WHERE leg.id=m.league_id GROUP BY date \n",
    "ORDER BY GoalsScored ASC"
   ]
  }
 ],
 "metadata": {
  "kernelspec": {
   "display_name": "Python 3",
   "language": "python",
   "name": "python3"
  },
  "language_info": {
   "codemirror_mode": {
    "name": "ipython",
    "version": 3
   },
   "file_extension": ".py",
   "mimetype": "text/x-python",
   "name": "python",
   "nbconvert_exporter": "python",
   "pygments_lexer": "ipython3",
   "version": "3.7.3"
  }
 },
 "nbformat": 4,
 "nbformat_minor": 2
}
